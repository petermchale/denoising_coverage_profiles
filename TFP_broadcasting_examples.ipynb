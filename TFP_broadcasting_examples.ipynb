{
 "cells": [
  {
   "cell_type": "markdown",
   "metadata": {},
   "source": [
    "## This notebook illustrates how the argument to `log_prob` is broadcasted against the shapes of a `tfd.Distribution`\n",
    "\n",
    "See \"Broadcasting, aka Why Is This So Confusing?\" at: https://github.com/tensorflow/probability/blob/master/tensorflow_probability/examples/jupyter_notebooks/TensorFlow_Distributions_Tutorial.ipynb\n",
    "\n",
    "See the graphical depiction of broadcasting rules at: https://docs.scipy.org/doc/numpy/user/basics.broadcasting.html#general-broadcasting-rules\n",
    "\n",
    "More examples at: \n",
    "https://github.com/tensorflow/probability/blob/master/tensorflow_probability/examples/jupyter_notebooks/Understanding_TensorFlow_Distributions_Shapes.ipynb"
   ]
  },
  {
   "cell_type": "code",
   "execution_count": 1,
   "metadata": {},
   "outputs": [],
   "source": [
    "from tensorflow import enable_eager_execution\n",
    "enable_eager_execution()\n"
   ]
  },
  {
   "cell_type": "code",
   "execution_count": 2,
   "metadata": {},
   "outputs": [
    {
     "name": "stdout",
     "output_type": "stream",
     "text": [
      "\n",
      "WARNING: The TensorFlow contrib module will not be included in TensorFlow 2.0.\n",
      "For more information, please see:\n",
      "  * https://github.com/tensorflow/community/blob/master/rfcs/20180907-contrib-sunset.md\n",
      "  * https://github.com/tensorflow/addons\n",
      "If you depend on functionality not listed there, please file an issue.\n",
      "\n",
      "tfp.distributions.Normal(\"Normal/\", batch_shape=(2,), event_shape=(), dtype=float32)\n",
      "arg_shape=(2,)\n",
      "tf.Tensor([0.3989423  0.17603266], shape=(2,), dtype=float32)\n"
     ]
    }
   ],
   "source": [
    "import tensorflow_probability as tfp \n",
    "tfd = tfp.distributions \n",
    "\n",
    "import numpy as np \n",
    "\n",
    "n = tfd.Normal(loc=[0., 1], scale=[1., 2])\n",
    "print(n)\n",
    "arg = np.array([0., 2.])\n",
    "print('arg_shape={}'.format(arg.shape))\n",
    "print(n.prob(arg))"
   ]
  },
  {
   "cell_type": "code",
   "execution_count": 3,
   "metadata": {
    "scrolled": true
   },
   "outputs": [
    {
     "name": "stdout",
     "output_type": "stream",
     "text": [
      "tfp.distributions.Normal(\"Normal/\", batch_shape=(2, 1), event_shape=(), dtype=float32)\n",
      "arg_shape=(2, 1)\n",
      "tf.Tensor(\n",
      "[[0.3989423 ]\n",
      " [0.17603266]], shape=(2, 1), dtype=float32)\n"
     ]
    }
   ],
   "source": [
    "n = tfd.Normal(loc=[[0.], [1]], scale=[[1.], [2]])\n",
    "print(n)\n",
    "arg = np.array([[0.], [2.]])\n",
    "print('arg_shape={}'.format(arg.shape))\n",
    "print(n.prob(arg))"
   ]
  },
  {
   "cell_type": "code",
   "execution_count": 4,
   "metadata": {},
   "outputs": [
    {
     "name": "stdout",
     "output_type": "stream",
     "text": [
      "tfp.distributions.Normal(\"Normal/\", batch_shape=(2, 1), event_shape=(), dtype=float32)\n",
      "arg_shape=(3,)\n",
      "tf.Tensor(\n",
      "[[3.9894229e-01 5.3990960e-02 1.3383021e-04]\n",
      " [1.7603266e-01 1.7603266e-01 6.4758793e-02]], shape=(2, 3), dtype=float32)\n"
     ]
    }
   ],
   "source": [
    "n = tfd.Normal(loc=[[0.], [1]], scale=[[1.], [2]])\n",
    "print(n)\n",
    "arg = np.array([0., 2., 4.])\n",
    "print('arg_shape={}'.format(arg.shape))\n",
    "print(n.prob(arg))"
   ]
  },
  {
   "cell_type": "code",
   "execution_count": 5,
   "metadata": {},
   "outputs": [
    {
     "name": "stdout",
     "output_type": "stream",
     "text": [
      "tfp.distributions.Normal(\"Normal/\", batch_shape=(2,), event_shape=(), dtype=float32)\n",
      "arg_shape=(3, 1)\n",
      "tf.Tensor(\n",
      "[[3.9894229e-01 1.7603266e-01]\n",
      " [5.3990960e-02 1.7603266e-01]\n",
      " [1.3383021e-04 6.4758793e-02]], shape=(3, 2), dtype=float32)\n"
     ]
    }
   ],
   "source": [
    "n = tfd.Normal(loc=[0., 1], scale=[1., 2])\n",
    "print(n)\n",
    "arg = np.array([[0.], [2.], [4.]])\n",
    "print('arg_shape={}'.format(arg.shape))\n",
    "print(n.prob(arg))"
   ]
  },
  {
   "cell_type": "code",
   "execution_count": 6,
   "metadata": {},
   "outputs": [
    {
     "name": "stdout",
     "output_type": "stream",
     "text": [
      "tfp.distributions.Normal(\"Normal/\", batch_shape=(3, 1), event_shape=(), dtype=float32)\n",
      "tfp.distributions.Independent(\"IndependentNormal/\", batch_shape=(3,), event_shape=(1,), dtype=float32)\n",
      "arg=[[0.]\n",
      " [2.]\n",
      " [4.]]\n",
      "n_shape_shift.prob(arg): [0.3989423  0.17603266 0.10648265]\n",
      "0.3989422804014327\n",
      "0.17603266338214976\n",
      "0.10648266850745075\n"
     ]
    }
   ],
   "source": [
    "n = tfd.Normal(loc=[[0.], [1.], [2.]], scale=[[1.], [2], [3.]])\n",
    "print(n)\n",
    "n_shape_shift = tfd.Independent(\n",
    "    distribution=n,\n",
    "    reinterpreted_batch_ndims=1\n",
    ")\n",
    "print(n_shape_shift)\n",
    "arg = np.array([[0.], [2.], [4.]])\n",
    "print('arg={}'.format(arg))\n",
    "print('n_shape_shift.prob(arg): {}'.format(n_shape_shift.prob(arg)))\n",
    "\n",
    "from scipy.stats import norm\n",
    "\n",
    "print(norm.pdf(0, loc=0, scale=1))\n",
    "print(norm.pdf(2, loc=1, scale=2))\n",
    "print(norm.pdf(4, loc=2, scale=3))"
   ]
  },
  {
   "cell_type": "markdown",
   "metadata": {},
   "source": [
    "## Computing probs of a batch of distributions at a number of sample locations\n",
    "\n",
    "See: https://nbviewer.jupyter.org/github/tensorflow/probability/blob/master/tensorflow_probability/examples/jupyter_notebooks/Understanding_TensorFlow_Distributions_Shapes.ipynb#Multivariate-distributions\n"
   ]
  },
  {
   "cell_type": "code",
   "execution_count": 24,
   "metadata": {},
   "outputs": [
    {
     "name": "stdout",
     "output_type": "stream",
     "text": [
      "distribution: tfp.distributions.MultivariateNormalDiag(\"MultivariateNormalDiag/\", batch_shape=(2,), event_shape=(3,), dtype=float32)\n",
      "arg.shape: (4, 1, 3)\n",
      "log_prob.shape: (4, 2)\n"
     ]
    }
   ],
   "source": [
    "two_multivariate_normals = tfd.MultivariateNormalDiag(loc=[1., 2., 3.], scale_identity_multiplier=[1., 2.])\n",
    "print('distribution: {}'.format(two_multivariate_normals))\n",
    "arg = np.array([[[1., 2., 3.]], [[3., 4., 5.]], [[6., 7., 8.]], [[9., 10., 11.]]])\n",
    "print('arg.shape: {}'.format(arg.shape))\n",
    "print('log_prob.shape: {}'.format(two_multivariate_normals.log_prob(arg).shape))\n",
    "\n"
   ]
  },
  {
   "cell_type": "code",
   "execution_count": 23,
   "metadata": {},
   "outputs": [
    {
     "name": "stdout",
     "output_type": "stream",
     "text": [
      "arg.shape: (4, 3)\n",
      "arg.shape: (4, 1, 3)\n"
     ]
    }
   ],
   "source": [
    "arg = np.array([[1., 2., 3.], [3., 4., 5.], [6., 7., 8.], [9., 10., 11.]])\n",
    "print('arg.shape: {}'.format(arg.shape))\n",
    "import tensorflow as tf\n",
    "arg = arg[:, tf.newaxis, :]\n",
    "print('arg.shape: {}'.format(arg.shape))\n"
   ]
  },
  {
   "cell_type": "code",
   "execution_count": 31,
   "metadata": {},
   "outputs": [
    {
     "name": "stdout",
     "output_type": "stream",
     "text": [
      "distribution: tfp.distributions.MultivariateNormalDiag(\"MultivariateNormalDiag/\", batch_shape=(2,), event_shape=(1,), dtype=float32)\n",
      "arg.shape: (3, 1, 1)\n",
      "log_prob.shape: (3, 2)\n"
     ]
    }
   ],
   "source": [
    "two_multivariate_normals = tfd.MultivariateNormalDiag(loc=[1.], scale_identity_multiplier=[1., 2.])\n",
    "print('distribution: {}'.format(two_multivariate_normals))\n",
    "arg = np.array([1., 2., 3.])\n",
    "arg = arg[..., tf.newaxis, tf.newaxis]\n",
    "print('arg.shape: {}'.format(arg.shape))\n",
    "print('log_prob.shape: {}'.format(two_multivariate_normals.log_prob(arg).shape))\n"
   ]
  },
  {
   "cell_type": "code",
   "execution_count": 34,
   "metadata": {},
   "outputs": [
    {
     "name": "stdout",
     "output_type": "stream",
     "text": [
      "arg: [[[1.]]\n",
      "\n",
      " [[2.]]\n",
      "\n",
      " [[3.]]]\n",
      "two_multivariate_normals.log_prob(arg): [[-0.9189385 -1.6120857]\n",
      " [-1.4189385 -1.7370857]\n",
      " [-2.9189386 -2.1120858]]\n"
     ]
    }
   ],
   "source": [
    "print('arg: {}'.format(arg))\n",
    "print('two_multivariate_normals.log_prob(arg): {}'.format(two_multivariate_normals.log_prob(arg)))\n"
   ]
  },
  {
   "cell_type": "code",
   "execution_count": 42,
   "metadata": {},
   "outputs": [
    {
     "name": "stdout",
     "output_type": "stream",
     "text": [
      "first_batch: tfp.distributions.Normal(\"Normal/\", batch_shape=(), event_shape=(), dtype=float32)\n",
      "tf.Tensor([-0.9189385 -1.4189385 -2.9189386], shape=(3,), dtype=float32)\n"
     ]
    }
   ],
   "source": [
    "first_batch = tfd.Normal(loc=1., scale=1.)\n",
    "print('first_batch: {}'.format(first_batch))\n",
    "print(first_batch.log_prob(arg.squeeze()))"
   ]
  },
  {
   "cell_type": "code",
   "execution_count": 43,
   "metadata": {},
   "outputs": [
    {
     "name": "stdout",
     "output_type": "stream",
     "text": [
      "second_batch: tfp.distributions.Normal(\"Normal/\", batch_shape=(), event_shape=(), dtype=float32)\n",
      "tf.Tensor([-1.6120857 -1.7370857 -2.1120858], shape=(3,), dtype=float32)\n"
     ]
    }
   ],
   "source": [
    "second_batch = tfd.Normal(loc=1., scale=2.)\n",
    "print('second_batch: {}'.format(second_batch))\n",
    "print(second_batch.log_prob(arg.squeeze()))"
   ]
  },
  {
   "cell_type": "code",
   "execution_count": null,
   "metadata": {},
   "outputs": [],
   "source": []
  }
 ],
 "metadata": {
  "kernelspec": {
   "display_name": "Python 3",
   "language": "python",
   "name": "python3"
  },
  "language_info": {
   "codemirror_mode": {
    "name": "ipython",
    "version": 3
   },
   "file_extension": ".py",
   "mimetype": "text/x-python",
   "name": "python",
   "nbconvert_exporter": "python",
   "pygments_lexer": "ipython3",
   "version": "3.5.6"
  },
  "toc": {
   "base_numbering": 1,
   "nav_menu": {},
   "number_sections": true,
   "sideBar": true,
   "skip_h1_title": false,
   "title_cell": "Table of Contents",
   "title_sidebar": "Contents",
   "toc_cell": false,
   "toc_position": {},
   "toc_section_display": true,
   "toc_window_display": false
  }
 },
 "nbformat": 4,
 "nbformat_minor": 2
}
