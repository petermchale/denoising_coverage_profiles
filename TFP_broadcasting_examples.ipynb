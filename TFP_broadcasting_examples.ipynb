{
 "cells": [
  {
   "cell_type": "markdown",
   "metadata": {},
   "source": [
    "## This notebook illustrates how the argument to `log_prob` is broadcasted against the shape of a `tfd.Distribution`\n",
    "\n",
    "See \"Broadcasting, aka Why Is This So Confusing?\" at: https://github.com/tensorflow/probability/blob/master/tensorflow_probability/examples/jupyter_notebooks/TensorFlow_Distributions_Tutorial.ipynb\n",
    "\n",
    "See the graphical depiction of broadcasting rules at: https://docs.scipy.org/doc/numpy/user/basics.broadcasting.html#general-broadcasting-rules\n",
    "\n",
    "More examples at: \n",
    "https://github.com/tensorflow/probability/blob/master/tensorflow_probability/examples/jupyter_notebooks/Understanding_TensorFlow_Distributions_Shapes.ipynb"
   ]
  },
  {
   "cell_type": "code",
   "execution_count": 7,
   "metadata": {},
   "outputs": [
    {
     "name": "stdout",
     "output_type": "stream",
     "text": [
      "0.17603266338214976\n",
      "0.17603266338214976\n",
      "0.06475879783294587\n"
     ]
    }
   ],
   "source": [
    "print(norm.pdf(0, loc=1, scale=2))\n",
    "print(norm.pdf(2, loc=1, scale=2))\n",
    "print(norm.pdf(4, loc=1, scale=2))"
   ]
  },
  {
   "cell_type": "code",
   "execution_count": 8,
   "metadata": {},
   "outputs": [
    {
     "name": "stdout",
     "output_type": "stream",
     "text": [
      "tfp.distributions.Normal(\"Normal/\", batch_shape=(2,), event_shape=(), dtype=float32)\n",
      "arg_shape=(2,)\n",
      "tf.Tensor([0.3989423  0.17603266], shape=(2,), dtype=float32)\n"
     ]
    }
   ],
   "source": [
    "n = tfd.Normal(loc=[0., 1], scale=[1., 2])\n",
    "print(n)\n",
    "arg = np.array([0., 2.])\n",
    "print('arg_shape={}'.format(arg.shape))\n",
    "print(n.prob(arg))"
   ]
  },
  {
   "cell_type": "code",
   "execution_count": 9,
   "metadata": {
    "scrolled": true
   },
   "outputs": [
    {
     "name": "stdout",
     "output_type": "stream",
     "text": [
      "tfp.distributions.Normal(\"Normal/\", batch_shape=(2, 1), event_shape=(), dtype=float32)\n",
      "arg_shape=(2, 1)\n",
      "tf.Tensor(\n",
      "[[0.3989423 ]\n",
      " [0.17603266]], shape=(2, 1), dtype=float32)\n"
     ]
    }
   ],
   "source": [
    "n = tfd.Normal(loc=[[0.], [1]], scale=[[1.], [2]])\n",
    "print(n)\n",
    "arg = np.array([[0.], [2.]])\n",
    "print('arg_shape={}'.format(arg.shape))\n",
    "print(n.prob(arg))"
   ]
  },
  {
   "cell_type": "code",
   "execution_count": 10,
   "metadata": {},
   "outputs": [
    {
     "name": "stdout",
     "output_type": "stream",
     "text": [
      "tfp.distributions.Normal(\"Normal/\", batch_shape=(2, 1), event_shape=(), dtype=float32)\n",
      "arg_shape=(3,)\n",
      "tf.Tensor(\n",
      "[[3.9894229e-01 5.3990960e-02 1.3383021e-04]\n",
      " [1.7603266e-01 1.7603266e-01 6.4758793e-02]], shape=(2, 3), dtype=float32)\n"
     ]
    }
   ],
   "source": [
    "n = tfd.Normal(loc=[[0.], [1]], scale=[[1.], [2]])\n",
    "print(n)\n",
    "arg = np.array([0., 2., 4.])\n",
    "print('arg_shape={}'.format(arg.shape))\n",
    "print(n.prob(arg))"
   ]
  },
  {
   "cell_type": "code",
   "execution_count": 11,
   "metadata": {},
   "outputs": [
    {
     "name": "stdout",
     "output_type": "stream",
     "text": [
      "tfp.distributions.Normal(\"Normal/\", batch_shape=(2,), event_shape=(), dtype=float32)\n",
      "arg_shape=(3, 1)\n",
      "tf.Tensor(\n",
      "[[3.9894229e-01 1.7603266e-01]\n",
      " [5.3990960e-02 1.7603266e-01]\n",
      " [1.3383021e-04 6.4758793e-02]], shape=(3, 2), dtype=float32)\n"
     ]
    }
   ],
   "source": [
    "n = tfd.Normal(loc=[0., 1], scale=[1., 2])\n",
    "print(n)\n",
    "arg = np.array([[0.], [2.], [4.]])\n",
    "print('arg_shape={}'.format(arg.shape))\n",
    "print(n.prob(arg))"
   ]
  },
  {
   "cell_type": "code",
   "execution_count": null,
   "metadata": {},
   "outputs": [],
   "source": []
  }
 ],
 "metadata": {
  "kernelspec": {
   "display_name": "Python 3",
   "language": "python",
   "name": "python3"
  },
  "language_info": {
   "codemirror_mode": {
    "name": "ipython",
    "version": 3
   },
   "file_extension": ".py",
   "mimetype": "text/x-python",
   "name": "python",
   "nbconvert_exporter": "python",
   "pygments_lexer": "ipython3",
   "version": "3.5.6"
  },
  "toc": {
   "base_numbering": 1,
   "nav_menu": {},
   "number_sections": true,
   "sideBar": true,
   "skip_h1_title": false,
   "title_cell": "Table of Contents",
   "title_sidebar": "Contents",
   "toc_cell": false,
   "toc_position": {},
   "toc_section_display": true,
   "toc_window_display": false
  }
 },
 "nbformat": 4,
 "nbformat_minor": 2
}
