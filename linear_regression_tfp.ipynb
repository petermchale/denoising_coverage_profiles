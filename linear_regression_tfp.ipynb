{
 "cells": [
  {
   "cell_type": "code",
   "execution_count": 1,
   "metadata": {},
   "outputs": [
    {
     "name": "stdout",
     "output_type": "stream",
     "text": [
      "\n",
      "WARNING: The TensorFlow contrib module will not be included in TensorFlow 2.0.\n",
      "For more information, please see:\n",
      "  * https://github.com/tensorflow/community/blob/master/rfcs/20180907-contrib-sunset.md\n",
      "  * https://github.com/tensorflow/addons\n",
      "If you depend on functionality not listed there, please file an issue.\n",
      "\n",
      "WARNING:tensorflow:From /anaconda2/envs/tf_tfp/lib/python3.5/site-packages/tensorflow/python/ops/resource_variable_ops.py:642: colocate_with (from tensorflow.python.framework.ops) is deprecated and will be removed in a future version.\n",
      "Instructions for updating:\n",
      "Colocations handled automatically by placer.\n",
      "WARNING:tensorflow:From /anaconda2/envs/tf_tfp/lib/python3.5/site-packages/tensorflow/python/ops/math_ops.py:3066: to_int32 (from tensorflow.python.ops.math_ops) is deprecated and will be removed in a future version.\n",
      "Instructions for updating:\n",
      "Use tf.cast instead.\n",
      "Epoch 1/20\n",
      "20/20 [==============================] - 0s 6ms/step - loss: 0.4661\n",
      "Epoch 2/20\n",
      "20/20 [==============================] - 0s 1ms/step - loss: -0.8883\n",
      "Epoch 3/20\n",
      "20/20 [==============================] - 0s 2ms/step - loss: -1.3368\n",
      "Epoch 4/20\n",
      "20/20 [==============================] - 0s 1ms/step - loss: -1.4440\n",
      "Epoch 5/20\n",
      "20/20 [==============================] - 0s 1ms/step - loss: -1.5038\n",
      "Epoch 6/20\n",
      "20/20 [==============================] - 0s 2ms/step - loss: -1.5519\n",
      "Epoch 7/20\n",
      "20/20 [==============================] - 0s 1ms/step - loss: -1.6259\n",
      "Epoch 8/20\n",
      "20/20 [==============================] - 0s 1ms/step - loss: -1.6543\n",
      "Epoch 9/20\n",
      "20/20 [==============================] - 0s 2ms/step - loss: -1.7085\n",
      "Epoch 10/20\n",
      "20/20 [==============================] - 0s 1ms/step - loss: -1.6917\n",
      "Epoch 11/20\n",
      "20/20 [==============================] - 0s 2ms/step - loss: -1.7398\n",
      "Epoch 12/20\n",
      "20/20 [==============================] - 0s 2ms/step - loss: -1.7560\n",
      "Epoch 13/20\n",
      "20/20 [==============================] - 0s 1ms/step - loss: -1.7263\n",
      "Epoch 14/20\n",
      "20/20 [==============================] - 0s 2ms/step - loss: -1.7193\n",
      "Epoch 15/20\n",
      "20/20 [==============================] - 0s 1ms/step - loss: -1.7482\n",
      "Epoch 16/20\n",
      "20/20 [==============================] - 0s 1ms/step - loss: -1.7587\n",
      "Epoch 17/20\n",
      "20/20 [==============================] - 0s 2ms/step - loss: -1.7603\n",
      "Epoch 18/20\n",
      "20/20 [==============================] - 0s 1ms/step - loss: -1.7532\n",
      "Epoch 19/20\n",
      "20/20 [==============================] - 0s 2ms/step - loss: -1.7295\n",
      "Epoch 20/20\n",
      "20/20 [==============================] - 0s 1ms/step - loss: -1.7489\n"
     ]
    }
   ],
   "source": [
    "import tensorflow as tf \n",
    "tf.enable_eager_execution()\n",
    "\n",
    "from tensorflow.keras.backend import clear_session\n",
    "# https://github.com/keras-team/keras/issues/2102#issuecomment-233773649\n",
    "clear_session() \n",
    "\n",
    "import tensorflow_probability as tfp \n",
    "import numpy as np \n",
    "\n",
    "import matplotlib.pyplot as plt\n",
    "%matplotlib inline \n",
    "\n",
    "tfd = tfp.distributions\n",
    "tfpl = tfp.layers\n",
    "tfk = tf.keras\n",
    "tfkl = tf.keras.layers\n",
    "\n",
    "n = 2000\n",
    "x = tfd.Uniform(low=-1, high=1).sample([n, 1])\n",
    "y = x * (1 + tfd.Normal(loc=0., scale=0.1).sample([n, 1]))\n",
    "\n",
    "inputs = tfkl.Input(shape=(1,))\n",
    "hidden = tfkl.Dense(12, activation='relu')(inputs)\n",
    "output_shape = (1,)\n",
    "distribution_parameters = tfkl.Dense(tfpl.IndependentNormal.params_size(output_shape))(hidden)\n",
    "outputs = tfpl.IndependentNormal(output_shape)(distribution_parameters)\n",
    "\n",
    "model = tfk.Model(inputs=inputs, outputs=outputs)\n",
    "\n",
    "batch_size = 100\n",
    "model.compile(optimizer=tf.train.AdamOptimizer(learning_rate=0.02),\n",
    "              loss=lambda y, d: -d.log_prob(y))\n",
    "history = model.fit(x, y,\n",
    "                    batch_size=batch_size,\n",
    "                    epochs=20,\n",
    "                    steps_per_epoch=n // batch_size)\n"
   ]
  },
  {
   "cell_type": "code",
   "execution_count": 2,
   "metadata": {},
   "outputs": [
    {
     "data": {
      "text/plain": [
       "[<matplotlib.lines.Line2D at 0x13117da20>]"
      ]
     },
     "execution_count": 2,
     "metadata": {},
     "output_type": "execute_result"
    },
    {
     "data": {
      "image/png": "[encoded data removed]",
      "text/plain": [
       "<Figure size 432x288 with 1 Axes>"
      ]
     },
     "metadata": {
      "needs_background": "light"
     },
     "output_type": "display_data"
    }
   ],
   "source": [
    "plt.plot(history.epoch, history.history['loss'])"
   ]
  },
  {
   "cell_type": "code",
   "execution_count": 3,
   "metadata": {},
   "outputs": [
    {
     "name": "stdout",
     "output_type": "stream",
     "text": [
      "_________________________________________________________________\n",
      "Layer (type)                 Output Shape              Param #   \n",
      "=================================================================\n",
      "input_1 (InputLayer)         (None, 1)                 0         \n",
      "_________________________________________________________________\n",
      "dense (Dense)                (None, 12)                24        \n",
      "_________________________________________________________________\n",
      "dense_1 (Dense)              (None, 2)                 26        \n",
      "_________________________________________________________________\n",
      "independent_normal (Independ [(None, 1), (None, 1)]    0         \n",
      "=================================================================\n",
      "Total params: 50\n",
      "Trainable params: 50\n",
      "Non-trainable params: 0\n",
      "_________________________________________________________________\n"
     ]
    }
   ],
   "source": [
    "model.summary()"
   ]
  },
  {
   "cell_type": "code",
   "execution_count": 4,
   "metadata": {},
   "outputs": [
    {
     "data": {
      "text/plain": [
       "<matplotlib.legend.Legend at 0x1311f4da0>"
      ]
     },
     "execution_count": 4,
     "metadata": {},
     "output_type": "execute_result"
    },
    {
     "data": {
      "image/png": "[encoded data removed]",
      "text/plain": [
       "<Figure size 432x288 with 1 Axes>"
      ]
     },
     "metadata": {
      "needs_background": "light"
     },
     "output_type": "display_data"
    }
   ],
   "source": [
    "x_test = tfd.Uniform(low=-1, high=1).sample([200, 1])\n",
    "\n",
    "plt.scatter(x, y, label='training samples')\n",
    "plt.scatter(x_test, model(x_test).sample(), label='test predictions')\n",
    "plt.legend()"
   ]
  },
  {
   "cell_type": "code",
   "execution_count": null,
   "metadata": {},
   "outputs": [],
   "source": []
  }
 ],
 "metadata": {
  "kernelspec": {
   "display_name": "Python 3",
   "language": "python",
   "name": "python3"
  },
  "language_info": {
   "codemirror_mode": {
    "name": "ipython",
    "version": 3
   },
   "file_extension": ".py",
   "mimetype": "text/x-python",
   "name": "python",
   "nbconvert_exporter": "python",
   "pygments_lexer": "ipython3",
   "version": "3.5.6"
  }
 },
 "nbformat": 4,
 "nbformat_minor": 2
}
