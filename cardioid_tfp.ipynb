{
 "cells": [
  {
   "cell_type": "code",
   "execution_count": 1,
   "metadata": {},
   "outputs": [
    {
     "name": "stdout",
     "output_type": "stream",
     "text": [
      "\n",
      "WARNING: The TensorFlow contrib module will not be included in TensorFlow 2.0.\n",
      "For more information, please see:\n",
      "  * https://github.com/tensorflow/community/blob/master/rfcs/20180907-contrib-sunset.md\n",
      "  * https://github.com/tensorflow/addons\n",
      "If you depend on functionality not listed there, please file an issue.\n",
      "\n",
      "WARNING:tensorflow:From /anaconda2/envs/tf_tfp/lib/python3.5/site-packages/tensorflow/python/ops/resource_variable_ops.py:642: colocate_with (from tensorflow.python.framework.ops) is deprecated and will be removed in a future version.\n",
      "Instructions for updating:\n",
      "Colocations handled automatically by placer.\n",
      "WARNING:tensorflow:From /anaconda2/envs/tf_tfp/lib/python3.5/site-packages/tensorflow_probability/python/distributions/categorical.py:263: multinomial (from tensorflow.python.ops.random_ops) is deprecated and will be removed in a future version.\n",
      "Instructions for updating:\n",
      "Use tf.random.categorical instead.\n",
      "WARNING:tensorflow:From /anaconda2/envs/tf_tfp/lib/python3.5/site-packages/tensorflow/python/ops/math_ops.py:3066: to_int32 (from tensorflow.python.ops.math_ops) is deprecated and will be removed in a future version.\n",
      "Instructions for updating:\n",
      "Use tf.cast instead.\n",
      "Epoch 1/20\n",
      "20/20 [==============================] - 0s 10ms/step - loss: 2.2892\n",
      "Epoch 2/20\n",
      "20/20 [==============================] - 0s 2ms/step - loss: 1.6513\n",
      "Epoch 3/20\n",
      "20/20 [==============================] - 0s 2ms/step - loss: 1.3541\n",
      "Epoch 4/20\n",
      "20/20 [==============================] - 0s 2ms/step - loss: 1.0822\n",
      "Epoch 5/20\n",
      "20/20 [==============================] - 0s 2ms/step - loss: 0.8361\n",
      "Epoch 6/20\n",
      "20/20 [==============================] - 0s 2ms/step - loss: 0.6849\n",
      "Epoch 7/20\n",
      "20/20 [==============================] - 0s 2ms/step - loss: 0.5865\n",
      "Epoch 8/20\n",
      "20/20 [==============================] - 0s 2ms/step - loss: 0.5380\n",
      "Epoch 9/20\n",
      "20/20 [==============================] - 0s 2ms/step - loss: 0.5161\n",
      "Epoch 10/20\n",
      "20/20 [==============================] - 0s 2ms/step - loss: 0.4995\n",
      "Epoch 11/20\n",
      "20/20 [==============================] - 0s 2ms/step - loss: 0.4830\n",
      "Epoch 12/20\n",
      "20/20 [==============================] - 0s 2ms/step - loss: 0.4823\n",
      "Epoch 13/20\n",
      "20/20 [==============================] - 0s 2ms/step - loss: 0.4728\n",
      "Epoch 14/20\n",
      "20/20 [==============================] - 0s 2ms/step - loss: 0.4612\n",
      "Epoch 15/20\n",
      "20/20 [==============================] - 0s 2ms/step - loss: 0.4552\n",
      "Epoch 16/20\n",
      "20/20 [==============================] - 0s 2ms/step - loss: 0.4503\n",
      "Epoch 17/20\n",
      "20/20 [==============================] - 0s 2ms/step - loss: 0.4474\n",
      "Epoch 18/20\n",
      "20/20 [==============================] - 0s 2ms/step - loss: 0.4558\n",
      "Epoch 19/20\n",
      "20/20 [==============================] - 0s 2ms/step - loss: 0.4930\n",
      "Epoch 20/20\n",
      "20/20 [==============================] - 0s 2ms/step - loss: 0.4477\n"
     ]
    }
   ],
   "source": [
    "import tensorflow as tf \n",
    "tf.enable_eager_execution()\n",
    "\n",
    "from tensorflow.keras.backend import clear_session\n",
    "# https://github.com/keras-team/keras/issues/2102#issuecomment-233773649\n",
    "clear_session() \n",
    "\n",
    "import tensorflow_probability as tfp \n",
    "import numpy as np \n",
    "\n",
    "import matplotlib.pyplot as plt\n",
    "%matplotlib inline \n",
    "\n",
    "tfd = tfp.distributions\n",
    "tfpl = tfp.layers\n",
    "tfk = tf.keras\n",
    "tfkl = tf.keras.layers\n",
    "\n",
    "# Load data -- graph of a [cardioid](https://en.wikipedia.org/wiki/Cardioid).\n",
    "n = 2000\n",
    "t = tfd.Uniform(low=-np.pi, high=np.pi).sample([n, 1])\n",
    "r = 2 * (1 - tf.cos(t))\n",
    "x = r * tf.sin(t) + tfd.Normal(loc=0., scale=0.1).sample([n, 1])\n",
    "y = r * tf.cos(t) + tfd.Normal(loc=0., scale=0.1).sample([n, 1])\n",
    "\n",
    "# Model the distribution of y given x with a Mixture Density Network.\n",
    "output_shape = (1,)\n",
    "number_components = 5\n",
    "number_distribution_parameters = tfpl.MixtureSameFamily.params_size(\n",
    "    number_components,\n",
    "    tfpl.IndependentNormal.params_size(output_shape))\n",
    "regularization_strength = 0.01\n",
    "model = tfk.Sequential([\n",
    "    tfkl.Dense(12, activation='relu', input_shape=(1,), kernel_regularizer=tfk.regularizers.l2(regularization_strength)),\n",
    "    tfkl.Dense(number_distribution_parameters, activation=None, kernel_regularizer=tfk.regularizers.l2(regularization_strength)),\n",
    "    tfpl.MixtureSameFamily(number_components, tfpl.IndependentNormal(output_shape)),\n",
    "])\n",
    "\n",
    "# Fit.\n",
    "batch_size = 100\n",
    "model.compile(optimizer=tf.train.AdamOptimizer(learning_rate=0.02),\n",
    "              loss=lambda y, d: -d.log_prob(y))\n",
    "history = model.fit(x, y,\n",
    "                    batch_size=batch_size,\n",
    "                    epochs=20,\n",
    "                    steps_per_epoch=n // batch_size)"
   ]
  },
  {
   "cell_type": "code",
   "execution_count": 2,
   "metadata": {},
   "outputs": [
    {
     "data": {
      "text/plain": [
       "[<matplotlib.lines.Line2D at 0x12c23d710>]"
      ]
     },
     "execution_count": 2,
     "metadata": {},
     "output_type": "execute_result"
    },
    {
     "data": {
      "image/png": "[encoded data removed]",
      "text/plain": [
       "<Figure size 432x288 with 1 Axes>"
      ]
     },
     "metadata": {
      "needs_background": "light"
     },
     "output_type": "display_data"
    }
   ],
   "source": [
    "plt.plot(history.epoch, history.history['loss'])"
   ]
  },
  {
   "cell_type": "code",
   "execution_count": 3,
   "metadata": {},
   "outputs": [
    {
     "name": "stdout",
     "output_type": "stream",
     "text": [
      "_________________________________________________________________\n",
      "Layer (type)                 Output Shape              Param #   \n",
      "=================================================================\n",
      "dense (Dense)                (None, 12)                24        \n",
      "_________________________________________________________________\n",
      "dense_1 (Dense)              (None, 15)                195       \n",
      "_________________________________________________________________\n",
      "mixture_same_family (Mixture [(None, 1), (None, 1)]    0         \n",
      "=================================================================\n",
      "Total params: 219\n",
      "Trainable params: 219\n",
      "Non-trainable params: 0\n",
      "_________________________________________________________________\n"
     ]
    }
   ],
   "source": [
    "model.summary()"
   ]
  },
  {
   "cell_type": "code",
   "execution_count": 4,
   "metadata": {},
   "outputs": [
    {
     "data": {
      "text/plain": [
       "<matplotlib.legend.Legend at 0x12c327390>"
      ]
     },
     "execution_count": 4,
     "metadata": {},
     "output_type": "execute_result"
    },
    {
     "data": {
      "image/png": "[encoded data removed]",
      "text/plain": [
       "<Figure size 432x288 with 1 Axes>"
      ]
     },
     "metadata": {
      "needs_background": "light"
     },
     "output_type": "display_data"
    }
   ],
   "source": [
    "n = 500\n",
    "t = tfd.Uniform(low=-np.pi, high=np.pi).sample([n, 1])\n",
    "r = 2 * (1 - tf.cos(t))\n",
    "x_test = r * tf.sin(t) + tfd.Normal(loc=0., scale=0.1).sample([n, 1])\n",
    "\n",
    "plt.scatter(x, y, label='training samples')\n",
    "plt.scatter(x_test, model(x_test).sample(), label='test predictions')\n",
    "plt.legend()"
   ]
  },
  {
   "cell_type": "code",
   "execution_count": 5,
   "metadata": {},
   "outputs": [
    {
     "data": {
      "text/plain": [
       "[<tf.Tensor 'dense_input:0' shape=(?, 1) dtype=float32>]"
      ]
     },
     "execution_count": 5,
     "metadata": {},
     "output_type": "execute_result"
    }
   ],
   "source": [
    "model.inputs"
   ]
  },
  {
   "cell_type": "code",
   "execution_count": 6,
   "metadata": {},
   "outputs": [
    {
     "data": {
      "text/plain": [
       "dtype('float64')"
      ]
     },
     "execution_count": 6,
     "metadata": {},
     "output_type": "execute_result"
    }
   ],
   "source": [
    "inputs = np.zeros((1, 1))\n",
    "inputs.dtype"
   ]
  },
  {
   "cell_type": "code",
   "execution_count": 7,
   "metadata": {},
   "outputs": [],
   "source": [
    "inputs = np.zeros((1, 1), dtype=np.float32)"
   ]
  },
  {
   "cell_type": "code",
   "execution_count": 8,
   "metadata": {},
   "outputs": [
    {
     "data": {
      "text/plain": [
       "<tfp.distributions.MixtureSameFamily 'sequential/mixture_same_family/mixture_same_family/MixtureSameFamily/MixtureSameFamily/' batch_shape=(1,) event_shape=(1,) dtype=float32>"
      ]
     },
     "execution_count": 8,
     "metadata": {},
     "output_type": "execute_result"
    }
   ],
   "source": [
    "outputs = model(inputs) # predicted distribution\n",
    "outputs"
   ]
  },
  {
   "cell_type": "code",
   "execution_count": 9,
   "metadata": {},
   "outputs": [
    {
     "data": {
      "text/plain": [
       "<tf.Tensor: id=2974, shape=(1, 5), dtype=float32, numpy=\n",
       "array([[0.3618193 , 0.40073872, 0.00280275, 0.00191003, 0.23272924]],\n",
       "      dtype=float32)>"
      ]
     },
     "execution_count": 9,
     "metadata": {},
     "output_type": "execute_result"
    }
   ],
   "source": [
    "outputs.mixture_distribution.probs # priors"
   ]
  },
  {
   "cell_type": "code",
   "execution_count": 10,
   "metadata": {},
   "outputs": [
    {
     "data": {
      "text/plain": [
       "<tf.Tensor: id=2928, shape=(1, 5, 1), dtype=float32, numpy=\n",
       "array([[[ 9.8974973e-02],\n",
       "        [ 1.6832627e-01],\n",
       "        [-3.5366818e-01],\n",
       "        [ 1.4838576e-04],\n",
       "        [-4.0191650e+00]]], dtype=float32)>"
      ]
     },
     "execution_count": 10,
     "metadata": {},
     "output_type": "execute_result"
    }
   ],
   "source": [
    "outputs.components_distribution.distribution.loc # means"
   ]
  },
  {
   "cell_type": "code",
   "execution_count": 11,
   "metadata": {},
   "outputs": [
    {
     "data": {
      "text/plain": [
       "<tf.Tensor: id=2930, shape=(1, 5, 1), dtype=float32, numpy=\n",
       "array([[[0.11897061],\n",
       "        [0.13320228],\n",
       "        [0.7293911 ],\n",
       "        [0.6770745 ],\n",
       "        [0.09910803]]], dtype=float32)>"
      ]
     },
     "execution_count": 11,
     "metadata": {},
     "output_type": "execute_result"
    }
   ],
   "source": [
    "outputs.components_distribution.distribution.scale # standard deviations"
   ]
  },
  {
   "cell_type": "code",
   "execution_count": 12,
   "metadata": {},
   "outputs": [
    {
     "data": {
      "text/plain": [
       "<tfp.distributions.Independent 'Independentsequential/mixture_same_family/mixture_same_family/MixtureSameFamily/MixtureSameFamily/' batch_shape=() event_shape=(2000, 1) dtype=float32>"
      ]
     },
     "execution_count": 12,
     "metadata": {},
     "output_type": "execute_result"
    }
   ],
   "source": [
    "training_joint_distribution = tfd.Independent(model(x), reinterpreted_batch_ndims=1)\n",
    "training_joint_distribution"
   ]
  },
  {
   "cell_type": "code",
   "execution_count": 15,
   "metadata": {},
   "outputs": [
    {
     "data": {
      "text/plain": [
       "<tf.Tensor: id=3377, shape=(), dtype=float32, numpy=0.23591374>"
      ]
     },
     "execution_count": 15,
     "metadata": {},
     "output_type": "execute_result"
    }
   ],
   "source": [
    "training_log_likelihood = training_joint_distribution.log_prob(y)\n",
    "-training_log_likelihood/len(x)"
   ]
  },
  {
   "cell_type": "code",
   "execution_count": 14,
   "metadata": {},
   "outputs": [
    {
     "data": {
      "text/plain": [
       "0.4476918399333954"
      ]
     },
     "execution_count": 14,
     "metadata": {},
     "output_type": "execute_result"
    }
   ],
   "source": [
    "history.history['loss'][-1]"
   ]
  },
  {
   "cell_type": "markdown",
   "metadata": {},
   "source": [
    "The above difference between `history.history['loss'][-1]` and `-training_log_likelihood/len(x)` is due to L2 regularization, as you can see by setting `regularization_strength` to zero. "
   ]
  },
  {
   "cell_type": "code",
   "execution_count": null,
   "metadata": {},
   "outputs": [],
   "source": []
  }
 ],
 "metadata": {
  "kernelspec": {
   "display_name": "Python 3",
   "language": "python",
   "name": "python3"
  },
  "language_info": {
   "codemirror_mode": {
    "name": "ipython",
    "version": 3
   },
   "file_extension": ".py",
   "mimetype": "text/x-python",
   "name": "python",
   "nbconvert_exporter": "python",
   "pygments_lexer": "ipython3",
   "version": "3.5.6"
  }
 },
 "nbformat": 4,
 "nbformat_minor": 2
}
