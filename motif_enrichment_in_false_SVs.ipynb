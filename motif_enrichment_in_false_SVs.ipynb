{
 "cells": [
  {
   "cell_type": "markdown",
   "metadata": {
    "colab_type": "text",
    "id": "7m9W-IE3SO_w"
   },
   "source": [
    "## Motivation\n",
    "\n",
    "Hao applied his naive SV caller to read-fragment-corrected depth-of-coverage data from hg002. \n",
    "Calls that are not present in a truth set for this sample are deemed \"false calls\". \n",
    "\n",
    "The question we would like to answer is: Do motifs exist that are more likely to occur in false SV calls than in random DNA? If the answer is yes, then that is a first indication that sequence-dependent biases in read depth  are driving false calls. If these biases can be corrected prior to SV calling, then one might hope to reduce the number of false calls. \n",
    "\n",
    "\n"
   ]
  },
  {
   "cell_type": "code",
   "execution_count": 1,
   "metadata": {},
   "outputs": [],
   "source": [
    "## Google Colab environment \n",
    "\n",
    "# !wget http://hgdownload.soe.ucsc.edu/goldenPath/hg19/chromosomes/chr2.fa.gz\n",
    "# !gunzip chr2.fa.gz\n",
    "# # change the chromosome label in the FASTA to match that in Hao's call file\n",
    "# !sed -ie 's/chr2/2/' chr2.fa\n",
    "# !wget https://github.com/arq5x/bedtools2/releases/download/v2.28.0/bedtools\n",
    "# !chmod +x ./bedtools\n",
    "# !wget http://home.chpc.utah.edu/~u0875014/call.filtered.bed\n",
    "# !wget http://home.chpc.utah.edu/~u6018199/limo-truth.vcf.gz\n",
    "# !gunzip limo-truth.vcf.gz"
   ]
  },
  {
   "cell_type": "markdown",
   "metadata": {
    "colab_type": "text",
    "id": "bB18Czx9SO_x"
   },
   "source": [
    "## SV calls from Hao's naive caller"
   ]
  },
  {
   "cell_type": "code",
   "execution_count": 1,
   "metadata": {
    "colab": {},
    "colab_type": "code",
    "id": "je2iwlz6SO_7"
   },
   "outputs": [
    {
     "name": "stdout",
     "output_type": "stream",
     "text": [
      "number of naive calls: 5840\n"
     ]
    },
    {
     "data": {
      "text/html": [
       "<div>\n",
       "<style scoped>\n",
       "    .dataframe tbody tr th:only-of-type {\n",
       "        vertical-align: middle;\n",
       "    }\n",
       "\n",
       "    .dataframe tbody tr th {\n",
       "        vertical-align: top;\n",
       "    }\n",
       "\n",
       "    .dataframe thead th {\n",
       "        text-align: right;\n",
       "    }\n",
       "</style>\n",
       "<table border=\"1\" class=\"dataframe\">\n",
       "  <thead>\n",
       "    <tr style=\"text-align: right;\">\n",
       "      <th></th>\n",
       "      <th>chromosome</th>\n",
       "      <th>start</th>\n",
       "      <th>end</th>\n",
       "      <th>sequence</th>\n",
       "    </tr>\n",
       "  </thead>\n",
       "  <tbody>\n",
       "    <tr>\n",
       "      <th>0</th>\n",
       "      <td>2</td>\n",
       "      <td>1</td>\n",
       "      <td>10183</td>\n",
       "      <td>NNNNNNNNNNNNNNNNNNNNNNNNNNNNNNNNNNNNNNNNNNNNNNNNNNNNNNNNNNNNNNNNNNNNNNNNNNNNNNNNNNNNNNNNNNNNNNNN...</td>\n",
       "    </tr>\n",
       "    <tr>\n",
       "      <th>1</th>\n",
       "      <td>2</td>\n",
       "      <td>10890</td>\n",
       "      <td>11120</td>\n",
       "      <td>ggcgcagagaggcgcaccgcgcccgcgcaggcgcagagaggcgcaccgcgcccgcgcaggcgcagagaggcgcaccgcgcccgcgcaggcgcagag...</td>\n",
       "    </tr>\n",
       "    <tr>\n",
       "      <th>2</th>\n",
       "      <td>2</td>\n",
       "      <td>133229</td>\n",
       "      <td>133339</td>\n",
       "      <td>aaaattatcctggcatggtggcgtatgcctgtagtcccaaccgcacaggaggcttaggtgggaggatccactgaactcaggaggtggtggatgcag...</td>\n",
       "    </tr>\n",
       "    <tr>\n",
       "      <th>3</th>\n",
       "      <td>2</td>\n",
       "      <td>197732</td>\n",
       "      <td>198231</td>\n",
       "      <td>GCCTGTTGACGTGGAGACGCGCGGGGCCTTTTCCCTTCTGTCTGCCTTTCCGGCCTGTTGACGTGGAGACGCGCGGGGCGTTTTCCCTTCTGTCTG...</td>\n",
       "    </tr>\n",
       "    <tr>\n",
       "      <th>4</th>\n",
       "      <td>2</td>\n",
       "      <td>198238</td>\n",
       "      <td>198395</td>\n",
       "      <td>TGTCTGCCTTTCCGGCCTGTTGACGTGGAGACGCGCGGGGCCTTTTCCCTTCTGTCTGCCTTTCCGGCCTGTTGACGTGGAGACGCGCGGGGCCTT...</td>\n",
       "    </tr>\n",
       "  </tbody>\n",
       "</table>\n",
       "</div>"
      ],
      "text/plain": [
       "  chromosome   start     end  \\\n",
       "0          2       1   10183   \n",
       "1          2   10890   11120   \n",
       "2          2  133229  133339   \n",
       "3          2  197732  198231   \n",
       "4          2  198238  198395   \n",
       "\n",
       "                                                                                              sequence  \n",
       "0  NNNNNNNNNNNNNNNNNNNNNNNNNNNNNNNNNNNNNNNNNNNNNNNNNNNNNNNNNNNNNNNNNNNNNNNNNNNNNNNNNNNNNNNNNNNNNNNN...  \n",
       "1  ggcgcagagaggcgcaccgcgcccgcgcaggcgcagagaggcgcaccgcgcccgcgcaggcgcagagaggcgcaccgcgcccgcgcaggcgcagag...  \n",
       "2  aaaattatcctggcatggtggcgtatgcctgtagtcccaaccgcacaggaggcttaggtgggaggatccactgaactcaggaggtggtggatgcag...  \n",
       "3  GCCTGTTGACGTGGAGACGCGCGGGGCCTTTTCCCTTCTGTCTGCCTTTCCGGCCTGTTGACGTGGAGACGCGCGGGGCGTTTTCCCTTCTGTCTG...  \n",
       "4  TGTCTGCCTTTCCGGCCTGTTGACGTGGAGACGCGCGGGGCCTTTTCCCTTCTGTCTGCCTTTCCGGCCTGTTGACGTGGAGACGCGCGGGGCCTT...  "
      ]
     },
     "execution_count": 1,
     "metadata": {},
     "output_type": "execute_result"
    }
   ],
   "source": [
    "from collections import OrderedDict    \n",
    "import pandas as pd\n",
    "pd.set_option('max_colwidth', 100)\n",
    "import numpy as np \n",
    "\n",
    "def calls_to_dataframe(calls):\n",
    "    chromosomes, starts, ends, sequences = [], [], [], []\n",
    "    for call in calls: \n",
    "        chromosome, start, end, sequence = call.replace('-', '\\t').replace(':', '\\t').split('\\t')\n",
    "        chromosomes.append(chromosome)\n",
    "        starts.append(start)\n",
    "        ends.append(end)\n",
    "        sequences.append(sequence)\n",
    "\n",
    "    return pd.DataFrame(OrderedDict([\n",
    "        ('chromosome', chromosomes),\n",
    "        ('start', starts),\n",
    "        ('end', ends),\n",
    "        ('sequence', sequences)\n",
    "    ]))    \n",
    "\n",
    "def path(file): \n",
    "    return '../data/motif_enrichment_in_false_SVs/' + file\n",
    "\n",
    "def get_naive_calls(): \n",
    "    call_set = path('call.filtered.bed')\n",
    "    chr2 = path('chr2.fa')\n",
    "    calls = !bedtools getfasta -bed $call_set -fi $chr2 -fo /dev/stdout -tab \n",
    "    return calls_to_dataframe(calls)\n",
    "\n",
    "naive_calls = get_naive_calls()\n",
    "print('number of naive calls: {}'.format(len(naive_calls)))\n",
    "naive_calls.head()\n"
   ]
  },
  {
   "cell_type": "markdown",
   "metadata": {},
   "source": [
    "## False calls from naive SV caller"
   ]
  },
  {
   "cell_type": "code",
   "execution_count": 2,
   "metadata": {},
   "outputs": [
    {
     "name": "stdout",
     "output_type": "stream",
     "text": [
      "number of false naive calls: 4369\n"
     ]
    },
    {
     "data": {
      "text/html": [
       "<div>\n",
       "<style scoped>\n",
       "    .dataframe tbody tr th:only-of-type {\n",
       "        vertical-align: middle;\n",
       "    }\n",
       "\n",
       "    .dataframe tbody tr th {\n",
       "        vertical-align: top;\n",
       "    }\n",
       "\n",
       "    .dataframe thead th {\n",
       "        text-align: right;\n",
       "    }\n",
       "</style>\n",
       "<table border=\"1\" class=\"dataframe\">\n",
       "  <thead>\n",
       "    <tr style=\"text-align: right;\">\n",
       "      <th></th>\n",
       "      <th>chromosome</th>\n",
       "      <th>start</th>\n",
       "      <th>end</th>\n",
       "      <th>sequence</th>\n",
       "      <th>length</th>\n",
       "    </tr>\n",
       "  </thead>\n",
       "  <tbody>\n",
       "    <tr>\n",
       "      <th>0</th>\n",
       "      <td>2</td>\n",
       "      <td>1</td>\n",
       "      <td>10183</td>\n",
       "      <td>NNNNNNNNNNNNNNNNNNNNNNNNNNNNNNNNNNNNNNNNNNNNNNNNNNNNNNNNNNNNNNNNNNNNNNNNNNNNNNNNNNNNNNNNNNNNNNNN...</td>\n",
       "      <td>10182</td>\n",
       "    </tr>\n",
       "    <tr>\n",
       "      <th>1</th>\n",
       "      <td>2</td>\n",
       "      <td>10890</td>\n",
       "      <td>11120</td>\n",
       "      <td>ggcgcagagaggcgcaccgcgcccgcgcaggcgcagagaggcgcaccgcgcccgcgcaggcgcagagaggcgcaccgcgcccgcgcaggcgcagag...</td>\n",
       "      <td>230</td>\n",
       "    </tr>\n",
       "    <tr>\n",
       "      <th>2</th>\n",
       "      <td>2</td>\n",
       "      <td>133229</td>\n",
       "      <td>133339</td>\n",
       "      <td>aaaattatcctggcatggtggcgtatgcctgtagtcccaaccgcacaggaggcttaggtgggaggatccactgaactcaggaggtggtggatgcag...</td>\n",
       "      <td>110</td>\n",
       "    </tr>\n",
       "    <tr>\n",
       "      <th>3</th>\n",
       "      <td>2</td>\n",
       "      <td>197732</td>\n",
       "      <td>198231</td>\n",
       "      <td>GCCTGTTGACGTGGAGACGCGCGGGGCCTTTTCCCTTCTGTCTGCCTTTCCGGCCTGTTGACGTGGAGACGCGCGGGGCGTTTTCCCTTCTGTCTG...</td>\n",
       "      <td>499</td>\n",
       "    </tr>\n",
       "    <tr>\n",
       "      <th>4</th>\n",
       "      <td>2</td>\n",
       "      <td>198238</td>\n",
       "      <td>198395</td>\n",
       "      <td>TGTCTGCCTTTCCGGCCTGTTGACGTGGAGACGCGCGGGGCCTTTTCCCTTCTGTCTGCCTTTCCGGCCTGTTGACGTGGAGACGCGCGGGGCCTT...</td>\n",
       "      <td>157</td>\n",
       "    </tr>\n",
       "  </tbody>\n",
       "</table>\n",
       "</div>"
      ],
      "text/plain": [
       "  chromosome   start     end  \\\n",
       "0          2       1   10183   \n",
       "1          2   10890   11120   \n",
       "2          2  133229  133339   \n",
       "3          2  197732  198231   \n",
       "4          2  198238  198395   \n",
       "\n",
       "                                                                                              sequence  \\\n",
       "0  NNNNNNNNNNNNNNNNNNNNNNNNNNNNNNNNNNNNNNNNNNNNNNNNNNNNNNNNNNNNNNNNNNNNNNNNNNNNNNNNNNNNNNNNNNNNNNNN...   \n",
       "1  ggcgcagagaggcgcaccgcgcccgcgcaggcgcagagaggcgcaccgcgcccgcgcaggcgcagagaggcgcaccgcgcccgcgcaggcgcagag...   \n",
       "2  aaaattatcctggcatggtggcgtatgcctgtagtcccaaccgcacaggaggcttaggtgggaggatccactgaactcaggaggtggtggatgcag...   \n",
       "3  GCCTGTTGACGTGGAGACGCGCGGGGCCTTTTCCCTTCTGTCTGCCTTTCCGGCCTGTTGACGTGGAGACGCGCGGGGCGTTTTCCCTTCTGTCTG...   \n",
       "4  TGTCTGCCTTTCCGGCCTGTTGACGTGGAGACGCGCGGGGCCTTTTCCCTTCTGTCTGCCTTTCCGGCCTGTTGACGTGGAGACGCGCGGGGCCTT...   \n",
       "\n",
       "   length  \n",
       "0   10182  \n",
       "1     230  \n",
       "2     110  \n",
       "3     499  \n",
       "4     157  "
      ]
     },
     "execution_count": 2,
     "metadata": {},
     "output_type": "execute_result"
    }
   ],
   "source": [
    "def get_false_naive_calls(): \n",
    "    call_set = path('call.filtered.bed')\n",
    "    false_call_set = path('call.filtered.false.bed')\n",
    "    truth_set = path('limo-truth.vcf')\n",
    "    chr2 = path('chr2.fa')\n",
    "    !bedtools intersect -v -a $call_set -b $truth_set > $false_call_set \n",
    "    calls = !bedtools getfasta -bed $false_call_set -fi $chr2 -fo /dev/stdout -tab \n",
    "    df = calls_to_dataframe(calls)\n",
    "    df['length'] = df['sequence'].map(lambda s: len(s))\n",
    "    return df\n",
    "\n",
    "false_naive_calls = get_false_naive_calls()\n",
    "print('number of false naive calls: {}'.format(len(false_naive_calls)))\n",
    "false_naive_calls.head()\n"
   ]
  },
  {
   "cell_type": "markdown",
   "metadata": {},
   "source": [
    "## Random sequences"
   ]
  },
  {
   "cell_type": "markdown",
   "metadata": {},
   "source": [
    "Let's generate sequences with the same length distribution as false naive calls \n",
    "but chosen from random positions in the genome:\n"
   ]
  },
  {
   "cell_type": "code",
   "execution_count": 3,
   "metadata": {},
   "outputs": [
    {
     "data": {
      "text/html": [
       "<div>\n",
       "<style scoped>\n",
       "    .dataframe tbody tr th:only-of-type {\n",
       "        vertical-align: middle;\n",
       "    }\n",
       "\n",
       "    .dataframe tbody tr th {\n",
       "        vertical-align: top;\n",
       "    }\n",
       "\n",
       "    .dataframe thead th {\n",
       "        text-align: right;\n",
       "    }\n",
       "</style>\n",
       "<table border=\"1\" class=\"dataframe\">\n",
       "  <thead>\n",
       "    <tr style=\"text-align: right;\">\n",
       "      <th></th>\n",
       "      <th>chromosome</th>\n",
       "      <th>start</th>\n",
       "      <th>end</th>\n",
       "      <th>sequence</th>\n",
       "    </tr>\n",
       "  </thead>\n",
       "  <tbody>\n",
       "    <tr>\n",
       "      <th>1445</th>\n",
       "      <td>2</td>\n",
       "      <td>2059</td>\n",
       "      <td>2209</td>\n",
       "      <td>NNNNNNNNNNNNNNNNNNNNNNNNNNNNNNNNNNNNNNNNNNNNNNNNNNNNNNNNNNNNNNNNNNNNNNNNNNNNNNNNNNNNNNNNNNNNNNNN...</td>\n",
       "    </tr>\n",
       "    <tr>\n",
       "      <th>1577</th>\n",
       "      <td>2</td>\n",
       "      <td>35139</td>\n",
       "      <td>35301</td>\n",
       "      <td>gcaacctccgcctcccggattcaagtgattctcctgcctcagcctccctagtagctgggattataggtgtccaccacaacgtctggctaatttttg...</td>\n",
       "    </tr>\n",
       "    <tr>\n",
       "      <th>724</th>\n",
       "      <td>2</td>\n",
       "      <td>155913</td>\n",
       "      <td>156035</td>\n",
       "      <td>gtcttactaaatgggtgctggctttttgagtttccttaatttgtgtatataatggcctggctatttcactgtacctgggaatccatattcagcaga...</td>\n",
       "    </tr>\n",
       "    <tr>\n",
       "      <th>1355</th>\n",
       "      <td>2</td>\n",
       "      <td>223813</td>\n",
       "      <td>223930</td>\n",
       "      <td>CATACAGGACTCTAGGAGCAGATGCTCAACCCCCTCGGAGGAGAAACATCTGGGAAAAACACTGGAGTGGGCTCCCAGAAGGGGAGGCCAGGGTGA...</td>\n",
       "    </tr>\n",
       "    <tr>\n",
       "      <th>2696</th>\n",
       "      <td>2</td>\n",
       "      <td>240293</td>\n",
       "      <td>240477</td>\n",
       "      <td>agccactgccccagcctccagctctggagcaacggcacagagatcttgggcagacagagagacaggctgcaagagcagagagctccaaagctctcc...</td>\n",
       "    </tr>\n",
       "  </tbody>\n",
       "</table>\n",
       "</div>"
      ],
      "text/plain": [
       "     chromosome   start     end  \\\n",
       "1445          2    2059    2209   \n",
       "1577          2   35139   35301   \n",
       "724           2  155913  156035   \n",
       "1355          2  223813  223930   \n",
       "2696          2  240293  240477   \n",
       "\n",
       "                                                                                                 sequence  \n",
       "1445  NNNNNNNNNNNNNNNNNNNNNNNNNNNNNNNNNNNNNNNNNNNNNNNNNNNNNNNNNNNNNNNNNNNNNNNNNNNNNNNNNNNNNNNNNNNNNNNN...  \n",
       "1577  gcaacctccgcctcccggattcaagtgattctcctgcctcagcctccctagtagctgggattataggtgtccaccacaacgtctggctaatttttg...  \n",
       "724   gtcttactaaatgggtgctggctttttgagtttccttaatttgtgtatataatggcctggctatttcactgtacctgggaatccatattcagcaga...  \n",
       "1355  CATACAGGACTCTAGGAGCAGATGCTCAACCCCCTCGGAGGAGAAACATCTGGGAAAAACACTGGAGTGGGCTCCCAGAAGGGGAGGCCAGGGTGA...  \n",
       "2696  agccactgccccagcctccagctctggagcaacggcacagagatcttgggcagacagagagacaggctgcaagagcagagagctccaaagctctcc...  "
      ]
     },
     "execution_count": 3,
     "metadata": {},
     "output_type": "execute_result"
    }
   ],
   "source": [
    "from Bio import SeqIO\n",
    "\n",
    "def get_chromosome(fasta_file='../data/motif_enrichment_in_false_SVs/chr2.fa'):\n",
    "    for record in SeqIO.parse(fasta_file, 'fasta'):\n",
    "        if record.id != '2': \n",
    "            continue\n",
    "        record.seq = str(record.seq)\n",
    "        return record\n",
    "\n",
    "def _add_sequences(df, chromosome):    \n",
    "    df['sequence'] = [chromosome.seq[s:e] for s, e in zip(df['start'], df['end'])]\n",
    "    return df\n",
    "\n",
    "def get_random_sequences(df):        \n",
    "    sequence_lengths = df['sequence'].map(lambda s: len(s)).values\n",
    "    \n",
    "    chromosome = get_chromosome()\n",
    "    \n",
    "    # \"replace=False\" slows down np.random.choice(...) significantly\n",
    "    starts = np.random.choice(np.arange(0, len(chromosome.seq)-max(sequence_lengths)+1),\n",
    "                              size=len(sequence_lengths))\n",
    "    ends = starts + sequence_lengths\n",
    "    df = pd.DataFrame(OrderedDict([\n",
    "        ('chromosome', chromosome.id),\n",
    "        ('start', starts),\n",
    "        ('end', ends)\n",
    "    ]))\n",
    "    return _add_sequences(df, chromosome).sort_values('start')\n",
    "\n",
    "random_sequences = get_random_sequences(false_naive_calls)\n",
    "random_sequences.head()"
   ]
  },
  {
   "cell_type": "code",
   "execution_count": 50,
   "metadata": {},
   "outputs": [
    {
     "data": {
      "image/png": "[encoded data removed]",
      "text/plain": [
       "<Figure size 432x288 with 1 Axes>"
      ]
     },
     "metadata": {
      "needs_background": "light"
     },
     "output_type": "display_data"
    },
    {
     "data": {
      "image/png": "[encoded data removed]",
      "text/plain": [
       "<Figure size 432x288 with 1 Axes>"
      ]
     },
     "metadata": {
      "needs_background": "light"
     },
     "output_type": "display_data"
    }
   ],
   "source": [
    "%matplotlib inline \n",
    "import matplotlib.pyplot as plt \n",
    "\n",
    "variable = { \n",
    "    'false calls': false_naive_calls,\n",
    "    'random sequences': random_sequences\n",
    "}\n",
    "\n",
    "def histogram_sequence_lengths(name):\n",
    "    plt.figure()\n",
    "    plt.title(name)\n",
    "    df = variable[name]\n",
    "    df['sequence'].map(lambda s: len(s)).hist(bins=np.arange(1000))\n",
    "    plt.xlabel('sequence length (bp)')\n",
    "    plt.ylabel('number of sequences')\n",
    "\n",
    "histogram_sequence_lengths('false calls')\n",
    "histogram_sequence_lengths('random sequences')"
   ]
  },
  {
   "cell_type": "markdown",
   "metadata": {},
   "source": [
    "## Are false SV calls enriched in certain motifs?"
   ]
  },
  {
   "cell_type": "code",
   "execution_count": 57,
   "metadata": {},
   "outputs": [],
   "source": [
    "def sequences_containing_motif(df, motif_):\n",
    "    motif_in_sequence = df['sequence'].map(lambda sequence: motif_.upper() in sequence.upper())\n",
    "    return df[motif_in_sequence]\n",
    "\n",
    "def number_of_sequences_containing_motif(df, motif_):\n",
    "    return len(sequences_containing_motif(df, motif_))\n",
    "\n",
    "def plot_distribution_of_occurrences(motif_, number_trials=20, number_bins=50):\n",
    "    background_number_of_motif_occurrences = []\n",
    "    for i in range(number_trials): \n",
    "        background_number_of_motif_occurrences.append(\n",
    "            number_of_sequences_containing_motif(get_random_sequences(false_naive_calls), motif_)\n",
    "        )        \n",
    "    plt.figure()\n",
    "    plt.title('total number of sequences: {}'.format(len(false_naive_calls)))\n",
    "    plt.xlabel('number of sequences containing {}'.format(motif_))\n",
    "    plt.ylabel('number of trials')\n",
    "    plt.hist(background_number_of_motif_occurrences, bins=np.arange(number_bins), label='random sequences')\n",
    "    plt.plot([number_of_sequences_containing_motif(false_naive_calls, motif_)]*2, [0, 1], label='false SV calls')\n",
    "    plt.legend()\n"
   ]
  },
  {
   "cell_type": "markdown",
   "metadata": {},
   "source": [
    "## AT repeats\n",
    "\n",
    "[Ross et al 2013](https://genomebiology.biomedcentral.com/articles/10.1186/gb-2013-14-5-r51) (Table 2), [Smith et al 2015](https://peerj.com/articles/836/) (Fig 3), and we (CEPH data) have established that sequences containing AT dinucleotide repeats tend to have lower read depths than random sequences. This systematic reduction in depth could fool depth-based callers. \n",
    "\n",
    "To test this hypothesis, we ask: are AT repeats more (or less) likely to occur in sequences that are called falsely as SVs than random sequences? In the following plots, \"number of trials\" refers to the number of times that the indicated number of sequences were drawn at random from the chromosome. \n"
   ]
  },
  {
   "cell_type": "code",
   "execution_count": 25,
   "metadata": {},
   "outputs": [
    {
     "data": {
      "image/png": "[encoded data removed]",
      "text/plain": [
       "<Figure size 432x288 with 1 Axes>"
      ]
     },
     "metadata": {
      "needs_background": "light"
     },
     "output_type": "display_data"
    }
   ],
   "source": [
    "plot_distribution_of_occurrences('AT'*10)"
   ]
  },
  {
   "cell_type": "code",
   "execution_count": 31,
   "metadata": {},
   "outputs": [
    {
     "data": {
      "image/png": "[encoded data removed]",
      "text/plain": [
       "<Figure size 432x288 with 1 Axes>"
      ]
     },
     "metadata": {
      "needs_background": "light"
     },
     "output_type": "display_data"
    }
   ],
   "source": [
    "plot_distribution_of_occurrences('AT'*5, number_bins=100)"
   ]
  },
  {
   "cell_type": "markdown",
   "metadata": {},
   "source": [
    "You can see that AT repeats seem to be slightly under-represented in false SV calls. Don't know how to interpret this. "
   ]
  },
  {
   "cell_type": "markdown",
   "metadata": {},
   "source": [
    "## CCCGCC motif \n",
    "\n",
    "The CCCGCC motif is also known to reduce read depth: [Ekblom et al 2014](https://bmcgenomics.biomedcentral.com/articles/10.1186/1471-2164-15-467) and [Van den Hoecke et al 2016](https://www.nature.com/articles/srep26314). Is this over-represented in false SV calls? \n"
   ]
  },
  {
   "cell_type": "code",
   "execution_count": 44,
   "metadata": {},
   "outputs": [
    {
     "data": {
      "image/png": "[encoded data removed]",
      "text/plain": [
       "<Figure size 432x288 with 1 Axes>"
      ]
     },
     "metadata": {
      "needs_background": "light"
     },
     "output_type": "display_data"
    }
   ],
   "source": [
    "plot_distribution_of_occurrences('CCCGCC', number_bins=400)"
   ]
  },
  {
   "cell_type": "markdown",
   "metadata": {},
   "source": [
    "CCCGCC appears to be twice as likely to occur in a false SV call as random DNA. This seems promising! \n",
    "\n",
    "Here is a dataframe containing false SV calls that harbor CCCGCC: "
   ]
  },
  {
   "cell_type": "code",
   "execution_count": 61,
   "metadata": {},
   "outputs": [
    {
     "data": {
      "text/html": [
       "<div>\n",
       "<style scoped>\n",
       "    .dataframe tbody tr th:only-of-type {\n",
       "        vertical-align: middle;\n",
       "    }\n",
       "\n",
       "    .dataframe tbody tr th {\n",
       "        vertical-align: top;\n",
       "    }\n",
       "\n",
       "    .dataframe thead th {\n",
       "        text-align: right;\n",
       "    }\n",
       "</style>\n",
       "<table border=\"1\" class=\"dataframe\">\n",
       "  <thead>\n",
       "    <tr style=\"text-align: right;\">\n",
       "      <th></th>\n",
       "      <th>chromosome</th>\n",
       "      <th>start</th>\n",
       "      <th>end</th>\n",
       "      <th>sequence</th>\n",
       "      <th>length</th>\n",
       "    </tr>\n",
       "  </thead>\n",
       "  <tbody>\n",
       "    <tr>\n",
       "      <th>12</th>\n",
       "      <td>2</td>\n",
       "      <td>676327</td>\n",
       "      <td>676441</td>\n",
       "      <td>CAGCAGTCCTCAACCCTCCCCATCCCCTCCTTGAGCGCCCTCCTGCAGAAGACAAGCCCTGCCCTCCAAGCTGCAGCCCCGCCCTGCCCTCCAAGC...</td>\n",
       "      <td>114</td>\n",
       "    </tr>\n",
       "    <tr>\n",
       "      <th>25</th>\n",
       "      <td>2</td>\n",
       "      <td>951780</td>\n",
       "      <td>951930</td>\n",
       "      <td>cctgcccctacccctgccctgcccctgcccatgccctgcacccaccgcgccccgcccctgcccctgccctgcacctacccctgccctgcacctacc...</td>\n",
       "      <td>150</td>\n",
       "    </tr>\n",
       "    <tr>\n",
       "      <th>52</th>\n",
       "      <td>2</td>\n",
       "      <td>1537275</td>\n",
       "      <td>1537529</td>\n",
       "      <td>CCCCACTGTGTGCAACCTCCCGAAATCCCCCCAACTTTGTGCAACCTCCCCAAATGCCCACTGTGTGCAACGTCCCGAAATCCCCCCCACTCTGTG...</td>\n",
       "      <td>254</td>\n",
       "    </tr>\n",
       "    <tr>\n",
       "      <th>54</th>\n",
       "      <td>2</td>\n",
       "      <td>1538899</td>\n",
       "      <td>1539010</td>\n",
       "      <td>CTCTGTGCAACCTCCCCAAATCCCCCCCCCCCCCATTGTGGGCAACCACACCAAATCCCGCCACTTGTGCAACCTCATCAATTTCCCCCCATTCTG...</td>\n",
       "      <td>111</td>\n",
       "    </tr>\n",
       "    <tr>\n",
       "      <th>57</th>\n",
       "      <td>2</td>\n",
       "      <td>1540116</td>\n",
       "      <td>1540224</td>\n",
       "      <td>GTCCCGAAATCCCCCCCACTCTGTGCAACCTCCCCAAATCCCCGCCACTCTGTGAAACCTCCCCCATCCCTTCCAGTTTGTGCACCCCCCCAAATC...</td>\n",
       "      <td>108</td>\n",
       "    </tr>\n",
       "  </tbody>\n",
       "</table>\n",
       "</div>"
      ],
      "text/plain": [
       "   chromosome    start      end  \\\n",
       "12          2   676327   676441   \n",
       "25          2   951780   951930   \n",
       "52          2  1537275  1537529   \n",
       "54          2  1538899  1539010   \n",
       "57          2  1540116  1540224   \n",
       "\n",
       "                                                                                               sequence  \\\n",
       "12  CAGCAGTCCTCAACCCTCCCCATCCCCTCCTTGAGCGCCCTCCTGCAGAAGACAAGCCCTGCCCTCCAAGCTGCAGCCCCGCCCTGCCCTCCAAGC...   \n",
       "25  cctgcccctacccctgccctgcccctgcccatgccctgcacccaccgcgccccgcccctgcccctgccctgcacctacccctgccctgcacctacc...   \n",
       "52  CCCCACTGTGTGCAACCTCCCGAAATCCCCCCAACTTTGTGCAACCTCCCCAAATGCCCACTGTGTGCAACGTCCCGAAATCCCCCCCACTCTGTG...   \n",
       "54  CTCTGTGCAACCTCCCCAAATCCCCCCCCCCCCCATTGTGGGCAACCACACCAAATCCCGCCACTTGTGCAACCTCATCAATTTCCCCCCATTCTG...   \n",
       "57  GTCCCGAAATCCCCCCCACTCTGTGCAACCTCCCCAAATCCCCGCCACTCTGTGAAACCTCCCCCATCCCTTCCAGTTTGTGCACCCCCCCAAATC...   \n",
       "\n",
       "    length  \n",
       "12     114  \n",
       "25     150  \n",
       "52     254  \n",
       "54     111  \n",
       "57     108  "
      ]
     },
     "execution_count": 61,
     "metadata": {},
     "output_type": "execute_result"
    }
   ],
   "source": [
    "sequences_containing_motif(false_naive_calls, 'CCCGCC').head()"
   ]
  },
  {
   "cell_type": "markdown",
   "metadata": {},
   "source": [
    "## To Do \n",
    "\n",
    "* use mosdepth to compute the per-base read depth and stick that array into the dataframes, enabling us to: \n",
    "    * visually examine the read-depth profile in the false calls \n",
    "    * restrict false SV calls to those that exhibit drops in depth that are improbable under a poisson model\n",
    "\n",
    "* make calls on more samples so that we can restrict false SV calls to those that recur in multiple individuals\n"
   ]
  },
  {
   "cell_type": "code",
   "execution_count": null,
   "metadata": {
    "colab": {},
    "colab_type": "code",
    "id": "_Kb5gxrLSPAe"
   },
   "outputs": [],
   "source": []
  }
 ],
 "metadata": {
  "colab": {
   "name": "Untitled.ipynb",
   "provenance": [],
   "version": "0.3.2"
  },
  "kernelspec": {
   "display_name": "Python 3",
   "language": "python",
   "name": "python3"
  },
  "language_info": {
   "codemirror_mode": {
    "name": "ipython",
    "version": 3
   },
   "file_extension": ".py",
   "mimetype": "text/x-python",
   "name": "python",
   "nbconvert_exporter": "python",
   "pygments_lexer": "ipython3",
   "version": "3.5.6"
  },
  "toc": {
   "base_numbering": 1,
   "nav_menu": {},
   "number_sections": true,
   "sideBar": true,
   "skip_h1_title": false,
   "title_cell": "Table of Contents",
   "title_sidebar": "Contents",
   "toc_cell": false,
   "toc_position": {},
   "toc_section_display": true,
   "toc_window_display": false
  }
 },
 "nbformat": 4,
 "nbformat_minor": 1
}
